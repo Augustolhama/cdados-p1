{
 "cells": [
  {
   "cell_type": "markdown",
   "metadata": {},
   "source": [
    "# Projeto 1 - Ciência dos Dados"
   ]
  },
  {
   "cell_type": "markdown",
   "metadata": {},
   "source": [
    "Nome: Augusto Ferreira\n",
    "\n",
    "Nome: Diogo Diniz\n",
    "\n",
    "Nome: João Andrade"
   ]
  },
  {
   "cell_type": "markdown",
   "metadata": {},
   "source": [
    "Atenção: Serão permitidos grupos de três pessoas, mas com uma rubrica mais exigente. Grupos deste tamanho precisarão fazer um questionário de avaliação de trabalho em equipe"
   ]
  },
  {
   "cell_type": "markdown",
   "metadata": {},
   "source": [
    "___\n",
    "Carregando algumas bibliotecas:"
   ]
  },
  {
   "cell_type": "code",
   "execution_count": 14,
   "metadata": {},
   "outputs": [],
   "source": [
    "%matplotlib inline\n",
    "import pandas as pd\n",
    "import matplotlib.pyplot as plt\n",
    "import numpy as np\n",
    "import os"
   ]
  },
  {
   "cell_type": "code",
   "execution_count": 15,
   "metadata": {
    "scrolled": false
   },
   "outputs": [
    {
     "name": "stdout",
     "output_type": "stream",
     "text": [
      "Esperamos trabalhar no diretório\n",
      "c:\\zTodoresto\\Insper\\Projeto1Cdados\\cdados-p1\n"
     ]
    }
   ],
   "source": [
    "print('Esperamos trabalhar no diretório')\n",
    "print(os.getcwd())"
   ]
  },
  {
   "cell_type": "markdown",
   "metadata": {},
   "source": [
    "Carregando a base de dados com os tweets classificados manualmente:"
   ]
  },
  {
   "cell_type": "code",
   "execution_count": 29,
   "metadata": {},
   "outputs": [
    {
     "data": {
      "text/html": [
       "<div>\n",
       "<style scoped>\n",
       "    .dataframe tbody tr th:only-of-type {\n",
       "        vertical-align: middle;\n",
       "    }\n",
       "\n",
       "    .dataframe tbody tr th {\n",
       "        vertical-align: top;\n",
       "    }\n",
       "\n",
       "    .dataframe thead th {\n",
       "        text-align: right;\n",
       "    }\n",
       "</style>\n",
       "<table border=\"1\" class=\"dataframe\">\n",
       "  <thead>\n",
       "    <tr style=\"text-align: right;\">\n",
       "      <th></th>\n",
       "      <th>Mensagem</th>\n",
       "      <th>Unnamed: 1</th>\n",
       "    </tr>\n",
       "  </thead>\n",
       "  <tbody>\n",
       "    <tr>\n",
       "      <th>0</th>\n",
       "      <td>Eu esperava um livro mais profundo pelas altas...</td>\n",
       "      <td>Negativo</td>\n",
       "    </tr>\n",
       "    <tr>\n",
       "      <th>1</th>\n",
       "      <td>Gostei muito do livro. Prende a nossa atenção ...</td>\n",
       "      <td>Positivo</td>\n",
       "    </tr>\n",
       "    <tr>\n",
       "      <th>2</th>\n",
       "      <td>Intediante, chato, o livro fica por dizer cois...</td>\n",
       "      <td>Negativo</td>\n",
       "    </tr>\n",
       "    <tr>\n",
       "      <th>3</th>\n",
       "      <td>Trilogia perfeita!!!!!!!! Recomendo!!!! Melhor...</td>\n",
       "      <td>Positivo</td>\n",
       "    </tr>\n",
       "    <tr>\n",
       "      <th>4</th>\n",
       "      <td>Comprei para presentear, então não posso avali...</td>\n",
       "      <td>Irrelevante</td>\n",
       "    </tr>\n",
       "  </tbody>\n",
       "</table>\n",
       "</div>"
      ],
      "text/plain": [
       "                                            Mensagem   Unnamed: 1\n",
       "0  Eu esperava um livro mais profundo pelas altas...     Negativo\n",
       "1  Gostei muito do livro. Prende a nossa atenção ...     Positivo\n",
       "2  Intediante, chato, o livro fica por dizer cois...     Negativo\n",
       "3  Trilogia perfeita!!!!!!!! Recomendo!!!! Melhor...     Positivo\n",
       "4  Comprei para presentear, então não posso avali...  Irrelevante"
      ]
     },
     "execution_count": 29,
     "metadata": {},
     "output_type": "execute_result"
    }
   ],
   "source": [
    "train = pd.read_excel('dados_treino.xlsx')\n",
    "train.head(5)"
   ]
  },
  {
   "cell_type": "code",
   "execution_count": 30,
   "metadata": {},
   "outputs": [
    {
     "data": {
      "text/html": [
       "<div>\n",
       "<style scoped>\n",
       "    .dataframe tbody tr th:only-of-type {\n",
       "        vertical-align: middle;\n",
       "    }\n",
       "\n",
       "    .dataframe tbody tr th {\n",
       "        vertical-align: top;\n",
       "    }\n",
       "\n",
       "    .dataframe thead th {\n",
       "        text-align: right;\n",
       "    }\n",
       "</style>\n",
       "<table border=\"1\" class=\"dataframe\">\n",
       "  <thead>\n",
       "    <tr style=\"text-align: right;\">\n",
       "      <th></th>\n",
       "      <th>Mensagem</th>\n",
       "      <th>Unnamed: 1</th>\n",
       "    </tr>\n",
       "  </thead>\n",
       "  <tbody>\n",
       "    <tr>\n",
       "      <th>0</th>\n",
       "      <td>Solicitei meu pagamento em 4 x e quando fui ve...</td>\n",
       "      <td>irrelevante</td>\n",
       "    </tr>\n",
       "    <tr>\n",
       "      <th>1</th>\n",
       "      <td>Tradução péssima!!! Os editores e o tradutor d...</td>\n",
       "      <td>irrelevante</td>\n",
       "    </tr>\n",
       "    <tr>\n",
       "      <th>2</th>\n",
       "      <td>Peço que verifiquem e reparem este erro, acred...</td>\n",
       "      <td>irrelevante</td>\n",
       "    </tr>\n",
       "    <tr>\n",
       "      <th>3</th>\n",
       "      <td>Queria comprar a coleção... Aí fui antes numa ...</td>\n",
       "      <td>irrelevante</td>\n",
       "    </tr>\n",
       "    <tr>\n",
       "      <th>4</th>\n",
       "      <td>Comprei os boxes pela primeira vez e o produto...</td>\n",
       "      <td>irrelevante</td>\n",
       "    </tr>\n",
       "  </tbody>\n",
       "</table>\n",
       "</div>"
      ],
      "text/plain": [
       "                                            Mensagem   Unnamed: 1\n",
       "0  Solicitei meu pagamento em 4 x e quando fui ve...  irrelevante\n",
       "1  Tradução péssima!!! Os editores e o tradutor d...  irrelevante\n",
       "2  Peço que verifiquem e reparem este erro, acred...  irrelevante\n",
       "3  Queria comprar a coleção... Aí fui antes numa ...  irrelevante\n",
       "4  Comprei os boxes pela primeira vez e o produto...  irrelevante"
      ]
     },
     "execution_count": 30,
     "metadata": {},
     "output_type": "execute_result"
    }
   ],
   "source": [
    "test = pd.read_excel('dados_teste.xlsx')\n",
    "test.head(5)"
   ]
  },
  {
   "cell_type": "markdown",
   "metadata": {},
   "source": [
    "___\n",
    "## Classificador automático\n"
   ]
  },
  {
   "cell_type": "markdown",
   "metadata": {},
   "source": [
    "Faça aqui uma descrição do seu assunto e o que considerou como relevante ou não relevante na classificação dos tweets (Target).\n",
    "\n",
    "Foram considerados relevantes as informações que traziam comentários positivos ou negativos sobre o livro em si, e foram desconsiderados aqueles que falavam sobre problemas com a entrega, com o modelo digital, sobre preços e pagamentos."
   ]
  },
  {
   "cell_type": "markdown",
   "metadata": {},
   "source": [
    "___\n",
    "### Montando um Classificador Naive-Bayes\n",
    "\n",
    "Considerando apenas as mensagens da planilha Treinamento, ensine  seu classificador."
   ]
  },
  {
   "cell_type": "code",
   "execution_count": 31,
   "metadata": {},
   "outputs": [
    {
     "data": {
      "text/plain": [
       "negativo       331\n",
       "irrelevante    135\n",
       "positivo        34\n",
       "Name: tag, dtype: int64"
      ]
     },
     "execution_count": 31,
     "metadata": {},
     "output_type": "execute_result"
    }
   ],
   "source": [
    "def limpa_texto(texto):\n",
    "    caractere_especial = ['', '!', '@', '¨', '#', '$',  '%', '&', '*', '?', '\"',',','.']\n",
    "    texto_limpo = ''\n",
    "    for letra in texto:\n",
    "        if letra not in  caractere_especial:\n",
    "            letra_nova = letra.lower()\n",
    "            texto_limpo += letra_nova\n",
    "    return texto_limpo\n",
    "\n",
    "test.columns = ['comentario','tag']\n",
    "test['comentario'] = test['comentario'].apply(limpa_texto)\n",
    "test['tag'] = test['tag'].apply(limpa_texto)\n",
    "test['tag'].value_counts()\n",
    "\n",
    "train.columns = ['comentario','tag']\n",
    "train['comentario'] = train['comentario'].apply(limpa_texto)\n",
    "train['tag'] = train['tag'].apply(limpa_texto)\n",
    "train['tag'].value_counts()"
   ]
  },
  {
   "cell_type": "code",
   "execution_count": 63,
   "metadata": {},
   "outputs": [
    {
     "name": "stdout",
     "output_type": "stream",
     "text": [
      "Probabilidade Negativa: 2.49641923313876e-65\n",
      "Probabilidade Positiva: 2.525133611435515e-65\n",
      "Probabilidade Irrelevante: 5.5834577655241525e-64\n"
     ]
    }
   ],
   "source": [
    "import math \n",
    "def separador_palavras(dt,tag):\n",
    "    k=0\n",
    "    texto=''\n",
    "\n",
    "    if tag == 'positivo' or tag == 'negativo' or tag == 'irrelevante':\n",
    "        frases= dt[dt['tag'] == tag]['comentario']\n",
    "        for i in frases:\n",
    "            texto += i\n",
    "    else:\n",
    "        while k < len(dt['comentario']):\n",
    "            texto += dt['comentario'][k]\n",
    "\n",
    "            k+=1\n",
    "\n",
    "    return pd.Series(texto.split()).value_counts(True)\n",
    "\n",
    "# Separando e achando a ocorrência de cada palavra no DataFrame Teste(train)\n",
    "palavras = separador_palavras(train,'sem')\n",
    "palavra_negativa = separador_palavras(train,'negativo')\n",
    "palavra_positiva = separador_palavras(train,'positivo')\n",
    "palavra_irrelevante = separador_palavras(train,'irrelevante')\n",
    "\n",
    "# Achando o número de palavras de cada classificação \n",
    "numero_palavras_irrelevantes = len(palavra_irrelevante)\n",
    "numero_palavras_positivas = len(palavra_positiva)\n",
    "numero_palavras_negativas = len(palavra_negativa)\n",
    "total_palavras = numero_palavras_irrelevantes + numero_palavras_negativas + numero_palavras_positivas\n",
    "\n",
    "#Calculando a probabilidade de cada classificação \n",
    "probabilidade_negativa = numero_palavras_negativas/total_palavras\n",
    "probabilidade_positiva = numero_palavras_positivas/total_palavras\n",
    "probabilidade_irrelevante = numero_palavras_irrelevantes/total_palavras\n",
    "\n",
    "def calcula_probabilidade(tag, comentario):\n",
    "    # Probabilidade condicional da frase dada a categoria\n",
    "    prob_condicional = 1.0\n",
    "\n",
    "    # Calcula a probabilidade condicional multiplicando as probabilidades das palavras na frase\n",
    "    for palavra in comentario.split():\n",
    "        if tag == 'negativo':\n",
    "            prob_condicional *= palavra_negativa.get(palavra, 1 / (total_palavras + 1))  # Suavização de Laplace\n",
    "        elif tag == 'positivo':\n",
    "            prob_condicional *= palavra_positiva.get(palavra, 1 / (total_palavras + 1))  # Suavização de Laplace\n",
    "        elif tag == 'irrelevante':\n",
    "            prob_condicional *= palavra_irrelevante.get(palavra, 1 / (total_palavras + 1))  # Suavização de Laplace\n",
    "\n",
    "    # Probabilidade a priori da categoria\n",
    "    if tag == 'negativo':\n",
    "        prob_a_priori = probabilidade_negativa\n",
    "    elif tag == 'positivo':\n",
    "        prob_a_priori = probabilidade_positiva\n",
    "    elif tag == 'irrelevante':\n",
    "        prob_a_priori = probabilidade_irrelevante\n",
    "\n",
    "    # Calcula a probabilidade final\n",
    "    probabilidade = prob_condicional * prob_a_priori\n",
    "\n",
    "    return probabilidade\n",
    "\n"
   ]
  },
  {
   "cell_type": "code",
   "execution_count": null,
   "metadata": {},
   "outputs": [],
   "source": []
  },
  {
   "cell_type": "markdown",
   "metadata": {},
   "source": [
    "___\n",
    "### Verificando a performance do Classificador\n",
    "\n",
    "Agora você deve testar o seu classificador com a base de Testes."
   ]
  },
  {
   "cell_type": "code",
   "execution_count": 131,
   "metadata": {},
   "outputs": [
    {
     "name": "stdout",
     "output_type": "stream",
     "text": [
      "A taxa de acerto do classificador quando o comentário é positivo é 33.33%\n",
      "A taxa de acerto do classificador quando o comentário é negativo é 45.55%\n",
      "A taxa de acerto do classificador quando o comentário é irrelevante é 85.37%\n",
      "a acuracia é de 58.16%\n"
     ]
    },
    {
     "data": {
      "text/html": [
       "<div>\n",
       "<style scoped>\n",
       "    .dataframe tbody tr th:only-of-type {\n",
       "        vertical-align: middle;\n",
       "    }\n",
       "\n",
       "    .dataframe tbody tr th {\n",
       "        vertical-align: top;\n",
       "    }\n",
       "\n",
       "    .dataframe thead th {\n",
       "        text-align: right;\n",
       "    }\n",
       "</style>\n",
       "<table border=\"1\" class=\"dataframe\">\n",
       "  <thead>\n",
       "    <tr style=\"text-align: right;\">\n",
       "      <th></th>\n",
       "      <th>Verdadeiro Positivo</th>\n",
       "      <th>Falso Positivo</th>\n",
       "      <th>Verdadeiro Negativo</th>\n",
       "      <th>Falso Negativo</th>\n",
       "      <th>Verdadeiro Irrelevante</th>\n",
       "      <th>Falso Irrelevante</th>\n",
       "    </tr>\n",
       "  </thead>\n",
       "  <tbody>\n",
       "    <tr>\n",
       "      <th>0</th>\n",
       "      <td>0.016</td>\n",
       "      <td>0.032</td>\n",
       "      <td>0.348</td>\n",
       "      <td>0.276</td>\n",
       "      <td>0.28</td>\n",
       "      <td>0.048</td>\n",
       "    </tr>\n",
       "  </tbody>\n",
       "</table>\n",
       "</div>"
      ],
      "text/plain": [
       "   Verdadeiro Positivo  Falso Positivo  Verdadeiro Negativo  Falso Negativo  \\\n",
       "0                0.016           0.032                0.348           0.276   \n",
       "\n",
       "   Verdadeiro Irrelevante  Falso Irrelevante  \n",
       "0                    0.28              0.048  "
      ]
     },
     "execution_count": 131,
     "metadata": {},
     "output_type": "execute_result"
    }
   ],
   "source": [
    "#Contador de acertos (verdadeiros)\n",
    "acertos_positivo = 0\n",
    "acertos_negativo = 0\n",
    "acertos_irrelevante = 0\n",
    "\n",
    "#Contador de erros (falsos)\n",
    "erros_positivo = 0\n",
    "erros_irrelevante = 0\n",
    "erros_negativo = 0\n",
    "\n",
    "for comentario, categoria_real in zip(test['comentario'], test['tag']):\n",
    "    # Use a função calcula_probabilidade para determinar a categoria\n",
    "    prob_negativa = calcula_probabilidade('negativo', comentario)\n",
    "    prob_positiva = calcula_probabilidade('positivo', comentario)\n",
    "    prob_irrelevante = calcula_probabilidade('irrelevante', comentario)\n",
    "\n",
    "    # Categoria de maior probabilidade\n",
    "    if prob_negativa >= prob_positiva and prob_negativa >= prob_irrelevante:\n",
    "        categoria_predita = 'negativo'\n",
    "    elif prob_positiva >= prob_negativa and prob_positiva >= prob_irrelevante:\n",
    "        categoria_predita = 'positivo'\n",
    "    else:\n",
    "        categoria_predita = 'irrelevante'\n",
    "\n",
    "    # Atualizar acertos\n",
    "    if categoria_predita == categoria_real:\n",
    "        if categoria_real == 'positivo':\n",
    "            acertos_positivo += 1\n",
    "        elif categoria_real == 'negativo':\n",
    "            acertos_negativo += 1\n",
    "        elif categoria_real == 'irrelevante':\n",
    "            acertos_irrelevante += 1\n",
    "    \n",
    "    # Contar Erros\n",
    "    if categoria_predita != categoria_real:\n",
    "        if categoria_real == 'positivo':\n",
    "            erros_positivo += 1\n",
    "        elif categoria_real == 'negativo':\n",
    "            erros_negativo += 1\n",
    "        elif categoria_real == 'irrelevante':\n",
    "            erros_irrelevante += 1\n",
    "            \n",
    "\n",
    "# total de comentários para cada categoria\n",
    "total_positivo = len(test[test['tag'] == 'positivo'])\n",
    "total_negativo = len(test[test['tag'] == 'negativo'])\n",
    "total_irrelevante = len(test[test['tag'] == 'irrelevante'])\n",
    "total =total_irrelevante +total_negativo+total_positivo\n",
    "\n",
    "\n",
    "# Taxas de vrdadeiras\n",
    "verdadeiro_positivo = acertos_positivo / total_positivo\n",
    "verdadeiro_negativo = acertos_negativo / total_negativo\n",
    "verdadeiro_irrelevante = acertos_irrelevante / total_irrelevante\n",
    "\n",
    "# Taxas de falsos\n",
    "\n",
    "falso_irrelevante = erros_irrelevante / total_irrelevante\n",
    "falso_negativo = erros_negativo / total_negativo\n",
    "falso_positivo = erros_positivo / total_positivo\n",
    "\n",
    "# Tabela de verdadeiros e Falsos\n",
    "\n",
    "tabela_verdadeiros_falsos = pd.DataFrame({'Verdadeiro Positivo':[acertos_positivo/total],'Falso Positivo':[erros_positivo/total],\n",
    "'Verdadeiro Negativo': [acertos_negativo/total],'Falso Negativo':[erros_negativo/total],'Verdadeiro Irrelevante':[acertos_irrelevante/total],'Falso Irrelevante':\n",
    "[erros_irrelevante/total]})\n",
    "\n",
    "\n",
    "\n",
    "# Calcular taxa de eficácia de Positivo , Negativo e Irrelevante\n",
    "\n",
    "eficacia_positivo = (verdadeiro_positivo/(verdadeiro_positivo+falso_positivo))*100\n",
    "eficacia_negativo = (verdadeiro_negativo/(verdadeiro_negativo+falso_positivo))*100\n",
    "eficacia_irrelevante = (verdadeiro_irrelevante/(verdadeiro_irrelevante+falso_irrelevante))*100\n",
    "\n",
    "print(f'A taxa de acerto do classificador quando o comentário é positivo é {eficacia_positivo:.2f}%')\n",
    "print(f'A taxa de acerto do classificador quando o comentário é negativo é {eficacia_negativo:.2f}%')\n",
    "print(f'A taxa de acerto do classificador quando o comentário é irrelevante é {eficacia_irrelevante:.2f}%')\n",
    "\n",
    "acuracia = ((verdadeiro_positivo + verdadeiro_negativo + verdadeiro_irrelevante) / (verdadeiro_positivo + verdadeiro_negativo + verdadeiro_irrelevante + falso_irrelevante +falso_negativo\n",
    "+falso_positivo))*100\n",
    "\n",
    "print(f'a acuracia é de {acuracia:.2f}%')\n",
    "\n",
    "tabela_verdadeiros_falsos\n"
   ]
  },
  {
   "cell_type": "code",
   "execution_count": null,
   "metadata": {},
   "outputs": [],
   "source": []
  },
  {
   "cell_type": "code",
   "execution_count": null,
   "metadata": {},
   "outputs": [],
   "source": []
  },
  {
   "cell_type": "markdown",
   "metadata": {},
   "source": [
    "___\n",
    "### Concluindo"
   ]
  },
  {
   "cell_type": "code",
   "execution_count": null,
   "metadata": {},
   "outputs": [],
   "source": []
  },
  {
   "cell_type": "code",
   "execution_count": null,
   "metadata": {},
   "outputs": [],
   "source": []
  },
  {
   "cell_type": "code",
   "execution_count": null,
   "metadata": {},
   "outputs": [],
   "source": []
  },
  {
   "cell_type": "markdown",
   "metadata": {},
   "source": [
    "___\n",
    "### Qualidade do Classificador a partir de novas separações dos tweets entre Treinamento e Teste\n",
    "\n",
    "Caso for fazer esse item do Projeto"
   ]
  },
  {
   "cell_type": "code",
   "execution_count": null,
   "metadata": {},
   "outputs": [],
   "source": []
  },
  {
   "cell_type": "code",
   "execution_count": null,
   "metadata": {},
   "outputs": [],
   "source": []
  },
  {
   "cell_type": "code",
   "execution_count": null,
   "metadata": {},
   "outputs": [],
   "source": []
  },
  {
   "cell_type": "markdown",
   "metadata": {},
   "source": [
    "___\n",
    "## Aperfeiçoamento:\n",
    "\n",
    "Trabalhos que conseguirem pelo menos conceito B vão evoluir em conceito dependendo da quantidade de itens avançados:\n",
    "\n",
    "* IMPLEMENTOU outras limpezas e transformações que não afetem a qualidade da informação contida nos tweets. Ex: stemming, lemmatization, stopwords\n",
    "* CONSIDEROU mais de duas categorias na variável Target e INCREMENTOU a quantidade de notícias, mantendo pelo menos 250 notícias por categoria (OBRIGATÓRIO PARA TRIOS, sem contar como item avançado)\n",
    "* Para Target com duas categorias: CRIOU pelo menos quatro categorias intermediárias de relevância baseadas na probabilidade: ex.: muito relevante, relevante, neutro, irrelevante, muito irrelevante\n",
    "* EXPLICOU porquê não pode usar o próprio classificador para gerar mais amostras de treinamento\n",
    "* PROPÔS diferentes cenários para Naïve Bayes fora do contexto do projeto (pelo menos dois cenários, exceto aqueles já apresentados em sala pelos professores: por exemplo, filtro de spam)\n",
    "* SUGERIU e EXPLICOU melhorias reais com indicações concretas de como implementar (indicar como fazer e indicar material de pesquisa)\n",
    "* FEZ o item Qualidade do Classificador a partir de novas separações das Notícias entre Treinamento e Teste descrito no enunciado do projeto (OBRIGATÓRIO para conceitos A ou A+)"
   ]
  },
  {
   "cell_type": "markdown",
   "metadata": {},
   "source": [
    "___\n",
    "## Referências"
   ]
  },
  {
   "cell_type": "markdown",
   "metadata": {},
   "source": [
    "[Naive Bayes and Text Classification](https://arxiv.org/pdf/1410.5329.pdf)  **Mais completo**\n",
    "\n",
    "[A practical explanation of a Naive Bayes Classifier](https://monkeylearn.com/blog/practical-explanation-naive-bayes-classifier/) **Mais simples**"
   ]
  },
  {
   "cell_type": "code",
   "execution_count": null,
   "metadata": {},
   "outputs": [],
   "source": []
  }
 ],
 "metadata": {
  "kernelspec": {
   "display_name": "Python 3",
   "language": "python",
   "name": "python3"
  },
  "language_info": {
   "codemirror_mode": {
    "name": "ipython",
    "version": 3
   },
   "file_extension": ".py",
   "mimetype": "text/x-python",
   "name": "python",
   "nbconvert_exporter": "python",
   "pygments_lexer": "ipython3",
   "version": "3.9.13"
  }
 },
 "nbformat": 4,
 "nbformat_minor": 4
}
